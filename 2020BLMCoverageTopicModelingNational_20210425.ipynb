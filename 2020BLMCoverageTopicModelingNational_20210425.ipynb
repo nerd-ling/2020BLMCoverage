{
  "cells": [
    {
      "cell_type": "code",
      "execution_count": null,
      "metadata": {
        "id": "jgdJcVl3UvQ9"
      },
      "outputs": [],
      "source": [
        "path_to_mallet = \"../mallet-2.0.8/bin/mallet\"\n",
        "\n",
        "import little_mallet_wrapper\n",
        "import seaborn\n",
        "import glob\n",
        "from pathlib import Path"
      ]
    },
    {
      "cell_type": "code",
      "execution_count": null,
      "metadata": {
        "id": "vhRVZ-MnUvQ_"
      },
      "outputs": [],
      "source": [
        "directory = \"../2020BLMCoverageNational/\"\n",
        "files = glob.glob(f\"{directory}/*.txt\")"
      ]
    },
    {
      "cell_type": "code",
      "execution_count": null,
      "metadata": {
        "id": "FWQbGIOBUvQ_"
      },
      "outputs": [],
      "source": [
        "#little_mallet_wrapper.process_string(text, numbers='remove')\n",
        "training_data = []\n",
        "for file in files:\n",
        "    text = open(file, encoding='utf-8').read()\n",
        "    processed_text = little_mallet_wrapper.process_string(text, numbers='remove')\n",
        "    training_data.append(processed_text)\n",
        "original_texts = []\n",
        "for file in files:\n",
        "    text = open(file, encoding='utf-8').read()\n",
        "    original_texts.append(text)"
      ]
    },
    {
      "cell_type": "code",
      "execution_count": null,
      "metadata": {
        "id": "cKjddqWzUvRA"
      },
      "outputs": [],
      "source": [
        "file_titles = [Path(file).stem for file in files]"
      ]
    },
    {
      "cell_type": "code",
      "execution_count": null,
      "metadata": {
        "id": "D0jINrLPUvRB",
        "outputId": "d725fde7-9921-48e9-c8f4-bb2c02dc332d"
      },
      "outputs": [
        {
          "name": "stdout",
          "output_type": "stream",
          "text": [
            "Number of Documents: 54\n",
            "Mean Number of Words per Document: 774.9\n",
            "Vocabulary Size: 7034\n"
          ]
        }
      ],
      "source": [
        "little_mallet_wrapper.print_dataset_stats(training_data)"
      ]
    },
    {
      "cell_type": "code",
      "execution_count": null,
      "metadata": {
        "id": "7_JFQfh_UvRD"
      },
      "outputs": [],
      "source": [
        "num_topics = 10\n",
        "training_data = training_data\n",
        "output_directory_path = '../2020BLMCoverageNational/results/'\n",
        "Path(f\"{output_directory_path}\").mkdir(parents=True, exist_ok=True)\n",
        "\n",
        "path_to_training_data           = f\"{output_directory_path}/training.txt\"\n",
        "path_to_formatted_training_data = f\"{output_directory_path}/mallet.training\"\n",
        "path_to_model                   = f\"{output_directory_path}/mallet.model.{str(num_topics)}\"\n",
        "path_to_topic_keys              = f\"{output_directory_path}/mallet.topic_keys.{str(num_topics)}\"\n",
        "path_to_topic_distributions     = f\"{output_directory_path}/mallet.topic_distributions.{str(num_topics)}\""
      ]
    },
    {
      "cell_type": "code",
      "execution_count": null,
      "metadata": {
        "id": "65PRMAJNUvRE",
        "outputId": "87e3e1f4-b10b-4ac2-ca1c-b87f84defbd5"
      },
      "outputs": [
        {
          "name": "stdout",
          "output_type": "stream",
          "text": [
            "Importing data...\n",
            "Complete\n"
          ]
        }
      ],
      "source": [
        "little_mallet_wrapper.import_data(path_to_mallet,\n",
        "                path_to_training_data,\n",
        "                path_to_formatted_training_data,\n",
        "                training_data)"
      ]
    },
    {
      "cell_type": "code",
      "execution_count": null,
      "metadata": {
        "id": "EiK__3nQUvRF",
        "outputId": "1283a515-b51b-46c3-958a-fe54513b827a"
      },
      "outputs": [
        {
          "name": "stdout",
          "output_type": "stream",
          "text": [
            "Training topic model...\n",
            "Complete\n"
          ]
        }
      ],
      "source": [
        "little_mallet_wrapper.train_topic_model(path_to_mallet,\n",
        "                      path_to_formatted_training_data,\n",
        "                      path_to_model,\n",
        "                      path_to_topic_keys,\n",
        "                      path_to_topic_distributions,\n",
        "                      num_topics)"
      ]
    },
    {
      "cell_type": "code",
      "execution_count": null,
      "metadata": {
        "id": "Ecka58e2UvRG",
        "outputId": "b9c39858-4859-4599-a4a5-0e649dcbf3de"
      },
      "outputs": [
        {
          "name": "stdout",
          "output_type": "stream",
          "text": [
            "✨Topic 0✨\n",
            "\n",
            "['mcatee', 'said', 'louisville', 'people', 'white', 'food', 'west', 'man', 'end', 'police', 'david', 'community', 'yaya', 'federal', 'saw', 'bbq', 'recalled', 'get', 'fired', 'two']\n",
            "\n",
            "✨Topic 1✨\n",
            "\n",
            "['black', 'new', 'times', 'york', 'like', 'years', 'one', 'say', 'said', 'women', 'long', 'come', 'still', 'even', 'first', 'many', 'racial', 'racism', 'kids', 'photograph']\n",
            "\n",
            "✨Topic 2✨\n",
            "\n",
            "['police', 'protesters', 'floyd', 'minneapolis', 'demonstrators', 'said', 'protests', 'protest', 'people', 'new', 'gathered', 'york', 'city', 'night', 'white', 'violence', 'washington', 'marched', 'george', 'outside']\n",
            "\n",
            "✨Topic 3✨\n",
            "\n",
            "['wild', 'may', 'tech', 'web', 'internet', 'media', 'trump', 'social', 'world', 'like', 'political', 'end', 'platform', 'industry', 'week', 'leaders', 'kind', 'things', 'rules', 'speech']\n",
            "\n",
            "✨Topic 4✨\n",
            "\n",
            "['taylor', 'police', 'apartment', 'door', 'walker', 'said', 'according', 'raid', 'glover', 'times', 'drug', 'detective', 'woman', 'later', 'evidence', 'two', 'new', 'home', 'york', 'car']\n",
            "\n",
            "✨Topic 5✨\n",
            "\n",
            "['people', 'year', 'would', 'get', 'community', 'told', 'back', 'day', 'african', 'time', 'going', 'american', 'see', 'point', 'says', 'earlier', 'know', 'summer', 'led', 'finally']\n",
            "\n",
            "✨Topic 6✨\n",
            "\n",
            "['police', 'city', 'officers', 'death', 'family', 'also', 'use', 'law', 'make', 'search', 'mcclain', 'right', 'mayor', 'would', 'warrants', 'changes', 'criminal', 'force', 'officials', 'violence']\n",
            "\n",
            "✨Topic 7✨\n",
            "\n",
            "['players', 'team', 'season', 'league', 'one', 'pandemic', 'two', 'coronavirus', 'also', 'national', 'teams', 'vote', 'day', 'anthem', 'testing', 'practice', 'texans', 'every', 'injustice', 'chiefs']\n",
            "\n",
            "✨Topic 8✨\n",
            "\n",
            "['would', 'white', 'moment', 'people', 'theater', 'truth', 'country', 'americans', 'way', 'could', 'racism', 'many', 'commission', 'event', 'whose', 'reconciliation', 'america', 'report', 'american', 'know']\n",
            "\n",
            "✨Topic 9✨\n",
            "\n",
            "['taylor', 'said', 'louisville', 'officers', 'police', 'breonna', 'kentucky', 'officer', 'justice', 'shot', 'one', 'cnn', 'protesters', 'attorney', 'death', 'arrested', 'fired', 'wednesday', 'charges', 'department']\n",
            "\n"
          ]
        }
      ],
      "source": [
        "topics = little_mallet_wrapper.load_topic_keys(path_to_topic_keys)\n",
        "\n",
        "for topic_number, topic in enumerate(topics):\n",
        "    print(f\"✨Topic {topic_number}✨\\n\\n{topic}\\n\")"
      ]
    },
    {
      "cell_type": "code",
      "execution_count": null,
      "metadata": {
        "id": "IXrkyYWtUvRZ"
      },
      "outputs": [],
      "source": [
        ""
      ]
    }
  ],
  "metadata": {
    "kernelspec": {
      "display_name": "Python 3",
      "language": "python",
      "name": "python3"
    },
    "language_info": {
      "codemirror_mode": {
        "name": "ipython",
        "version": 3
      },
      "file_extension": ".py",
      "mimetype": "text/x-python",
      "name": "python",
      "nbconvert_exporter": "python",
      "pygments_lexer": "ipython3",
      "version": "3.8.5"
    },
    "colab": {
      "name": "2020BLMCoverageTopicModelingNational_20210425.ipynb",
      "provenance": []
    }
  },
  "nbformat": 4,
  "nbformat_minor": 0
}